{
 "cells": [
  {
   "cell_type": "code",
   "execution_count": 1,
   "id": "7bc0b93c",
   "metadata": {},
   "outputs": [],
   "source": [
    "import math\n",
    "import random\n",
    "import seaborn as sns"
   ]
  },
  {
   "cell_type": "code",
   "execution_count": 2,
   "id": "5bb7a197",
   "metadata": {},
   "outputs": [],
   "source": [
    "def weight(x: float) -> float:\n",
    "    norm = math.exp(- x * x / 2) / math.sqrt(2 * math.pi)\n",
    "    laplace = math.exp(-abs(x)) / 2\n",
    "    return laplace / norm"
   ]
  },
  {
   "cell_type": "code",
   "execution_count": 3,
   "id": "553a6272",
   "metadata": {},
   "outputs": [],
   "source": [
    "class WeightedSample:\n",
    "    \"\"\"\n",
    "    https://qiita.com/kaityo256/items/64c12bb8c8946d7f03c6\n",
    "    \"\"\"\n",
    "    def __init__(self, ww: list[float]):\n",
    "        # Walker's Alias法\n",
    "        avg = math.fsum(ww) / len(ww)\n",
    "        prob = [w / avg for w in ww]\n",
    "        small = []\n",
    "        large = []\n",
    "        for i, p in enumerate(prob):\n",
    "            if p < 1.0:\n",
    "                small.append(i)\n",
    "            else:\n",
    "                large.append(i)\n",
    "        index = list(range(len(ww)))\n",
    "        while small and large:\n",
    "            j = small.pop()\n",
    "            k = large[-1]\n",
    "            index[j] = k\n",
    "            prob[k] = prob[k] - 1.0 + prob[j]\n",
    "            if prob[k] < 1.0:\n",
    "                small.append(k)\n",
    "                large.pop()\n",
    "        self.prob = prob\n",
    "        self.index = index\n",
    "    \n",
    "    def sample(self):\n",
    "        k = random.randrange(len(self.prob))\n",
    "        p = self.prob[k]\n",
    "        if random.random() < p:\n",
    "            return k\n",
    "        else:\n",
    "            return self.index[k]"
   ]
  },
  {
   "cell_type": "code",
   "execution_count": 4,
   "id": "2166454d",
   "metadata": {},
   "outputs": [],
   "source": [
    "ws = WeightedSample([1,2,3,4,5])"
   ]
  },
  {
   "cell_type": "code",
   "execution_count": 5,
   "id": "865a06f7",
   "metadata": {},
   "outputs": [
    {
     "data": {
      "text/plain": [
       "[0.3333333333333333, 0.6666666666666666, 1.0, 1.0, 0.6666666666666667]"
      ]
     },
     "execution_count": 5,
     "metadata": {},
     "output_type": "execute_result"
    }
   ],
   "source": [
    "ws.prob"
   ]
  },
  {
   "cell_type": "code",
   "execution_count": 6,
   "id": "a00ca35f",
   "metadata": {},
   "outputs": [
    {
     "data": {
      "text/plain": [
       "[4, 4, 2, 3, 3]"
      ]
     },
     "execution_count": 6,
     "metadata": {},
     "output_type": "execute_result"
    }
   ],
   "source": [
    "ws.index"
   ]
  },
  {
   "cell_type": "code",
   "execution_count": 7,
   "id": "898f11e6",
   "metadata": {},
   "outputs": [
    {
     "data": {
      "text/plain": [
       "[66798, 133467, 200056, 266063, 333616]"
      ]
     },
     "execution_count": 7,
     "metadata": {},
     "output_type": "execute_result"
    }
   ],
   "source": [
    "c = [0] * 5\n",
    "for _ in range(10 ** 6):\n",
    "    c[ws.sample()] += 1\n",
    "c"
   ]
  },
  {
   "cell_type": "code",
   "execution_count": 8,
   "id": "b513a8da",
   "metadata": {},
   "outputs": [
    {
     "data": {
      "text/plain": [
       "[1.0,\n",
       " 1.9980688044552233,\n",
       " 2.9949399682625226,\n",
       " 3.9830982963561783,\n",
       " 4.994401029970957]"
      ]
     },
     "execution_count": 8,
     "metadata": {},
     "output_type": "execute_result"
    }
   ],
   "source": [
    "[i / c[0] for i in c]"
   ]
  },
  {
   "cell_type": "code",
   "execution_count": 9,
   "id": "4e77b048",
   "metadata": {},
   "outputs": [],
   "source": [
    "M = 10 ** 6\n",
    "zz = [random.normalvariate() for _ in range(M)]\n",
    "ww = [weight(z) for z in zz]\n",
    "weighted_sampler = WeightedSample(ww)\n",
    "laplace_sampled = [zz[weighted_sampler.sample()] for _ in range(10 ** 5)]"
   ]
  },
  {
   "cell_type": "code",
   "execution_count": 10,
   "id": "82a3560b",
   "metadata": {},
   "outputs": [
    {
     "data": {
      "text/plain": [
       "[-1.1853197249012284,\n",
       " -1.1534357660400025,\n",
       " 0.38397293163466556,\n",
       " -2.318741516883419,\n",
       " -2.5609065154288473,\n",
       " -1.6124586099852054,\n",
       " -0.7851166354803345,\n",
       " 0.012793769053077294,\n",
       " -0.19711616403596674,\n",
       " -2.4491579905197116]"
      ]
     },
     "execution_count": 10,
     "metadata": {},
     "output_type": "execute_result"
    }
   ],
   "source": [
    "laplace_sampled[:10]"
   ]
  },
  {
   "cell_type": "code",
   "execution_count": 11,
   "id": "147affc3",
   "metadata": {},
   "outputs": [
    {
     "data": {
      "text/plain": [
       "<seaborn.axisgrid.FacetGrid at 0x11e5ebe50>"
      ]
     },
     "execution_count": 11,
     "metadata": {},
     "output_type": "execute_result"
    },
    {
     "data": {
      "image/png": "[encoded data removed]",
      "text/plain": [
       "<Figure size 500x500 with 1 Axes>"
      ]
     },
     "metadata": {},
     "output_type": "display_data"
    }
   ],
   "source": [
    "sns.displot(laplace_sampled, kde=True, stat='probability')"
   ]
  }
 ],
 "metadata": {
  "kernelspec": {
   "display_name": "Python 3 (ipykernel)",
   "language": "python",
   "name": "python3"
  },
  "language_info": {
   "codemirror_mode": {
    "name": "ipython",
    "version": 3
   },
   "file_extension": ".py",
   "mimetype": "text/x-python",
   "name": "python",
   "nbconvert_exporter": "python",
   "pygments_lexer": "ipython3",
   "version": "3.11.3"
  }
 },
 "nbformat": 4,
 "nbformat_minor": 5
}
